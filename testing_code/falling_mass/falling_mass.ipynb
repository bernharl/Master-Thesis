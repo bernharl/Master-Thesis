{
 "cells": [
  {
   "cell_type": "code",
   "execution_count": 2,
   "metadata": {},
   "outputs": [],
   "source": [
    "%load_ext lab_black"
   ]
  },
  {
   "cell_type": "code",
   "execution_count": 3,
   "metadata": {},
   "outputs": [],
   "source": [
    "%matplotlib inline\n",
    "import torch\n",
    "import torch.nn as nn\n",
    "import numba\n",
    "import numpy as np\n",
    "import matplotlib.pyplot as plt"
   ]
  },
  {
   "cell_type": "code",
   "execution_count": 4,
   "metadata": {},
   "outputs": [],
   "source": [
    "device = \"cuda:0\""
   ]
  },
  {
   "cell_type": "code",
   "execution_count": 48,
   "metadata": {},
   "outputs": [],
   "source": [
    "spec = [\n",
    "    (\"solved\", numba.types.boolean),\n",
    "    (\"g\", numba.types.float64),\n",
    "    (\"mu\", numba.types.float64),\n",
    "    (\"__v_no_drag\", numba.types.float64[:]),\n",
    "    (\"__v\", numba.types.float64[:]),\n",
    "    (\"__y_no_drag\", numba.types.float64[:]),\n",
    "    (\"__y\", numba.types.float64[:]),\n",
    "    (\"__t\", numba.types.float64[:]),\n",
    "]\n",
    "\n",
    "\n",
    "@numba.jitclass(spec)\n",
    "class ODEData:  # torch.utils.data.Dataset):\n",
    "    def __init__(self, g=9.81, mu=0):\n",
    "        self.solved = False\n",
    "        self.g = g\n",
    "        self.mu = mu\n",
    "\n",
    "    def __getitem__(self, i):\n",
    "        if not self.solved:\n",
    "            raise RuntimeError(\"Please run solve() first!\")\n",
    "        return self.y_no_drag[i], self.y[i]\n",
    "\n",
    "    def solve(self, v0, y0, t, dt):\n",
    "        N = int(t // dt + 1)\n",
    "        self.__v_no_drag = np.zeros((N, len(v0)))\n",
    "        self.__y_no_drag = np.zeros_like(self.__v_no_drag)\n",
    "        self.__v = np.zeros_like(self.__v_no_drag)\n",
    "        self.__y = np.zeros_like(self.__v_no_drag)\n",
    "        self.__v_no_drag[0] = v0\n",
    "        self.__v[0] = v0\n",
    "        self.__y_no_drag[0] = y0\n",
    "        self.__y[0] = y0\n",
    "        self.__t = np.linspace(0, t, N)\n",
    "        for i in range(N - 1):\n",
    "            a_pull = -self.g * self.__y[i]\n",
    "            a_drag = self.mu * self.__v[i]\n",
    "            a_pull_no_drag = -self.g * self.__y_no_drag[i]\n",
    "            step = a_pull_no_drag * dt\n",
    "            self.__v_no_drag[i + 1] = self.__v_no_drag[i] + step * (step < 0)\n",
    "            step = (a_pull - a_drag) * dt\n",
    "            self.__v[i + 1] = self.__v[i] + step * (step < 0)\n",
    "            step = self.__y_no_drag[i] + self.__v_no_drag[i + 1] * dt\n",
    "            self.__y_no_drag[i + 1] = step * (step > 0)\n",
    "            step = self.__y[i] + self.__v[i + 1] * dt\n",
    "            self.__y[i + 1] = step * (step > 0)\n",
    "        self.solved = True\n",
    "\n",
    "    @property\n",
    "    def y(self):\n",
    "        return self.__y\n",
    "\n",
    "    @property\n",
    "    def y_no_drag(self):\n",
    "        return self.__y_no_drag\n",
    "\n",
    "    @property\n",
    "    def v(self):\n",
    "        return self.__v\n",
    "\n",
    "    @property\n",
    "    def v_no_drag(self):\n",
    "        return self.__v_no_drag\n",
    "\n",
    "    @property\n",
    "    def t(self):\n",
    "        return self.__t\n",
    "\n",
    "    @property\n",
    "    def size(self):\n",
    "        return len(self.__t)"
   ]
  },
  {
   "cell_type": "code",
   "execution_count": 49,
   "metadata": {},
   "outputs": [
    {
     "ename": "TypingError",
     "evalue": "Failed in nopython mode pipeline (step: nopython frontend)\nFailed in nopython mode pipeline (step: nopython frontend)\nInvalid use of Function(<built-in function setitem>) with argument(s) of type(s): (array(float64, 1d, A), Literal[int](0), array(int64, 1d, C))\n * parameterized\nIn definition 0:\n    All templates rejected with literals.\nIn definition 1:\n    All templates rejected without literals.\nIn definition 2:\n    All templates rejected with literals.\nIn definition 3:\n    All templates rejected without literals.\nIn definition 4:\n    All templates rejected with literals.\nIn definition 5:\n    All templates rejected without literals.\nIn definition 6:\n    All templates rejected with literals.\nIn definition 7:\n    All templates rejected without literals.\nIn definition 8:\n    All templates rejected with literals.\nIn definition 9:\n    All templates rejected without literals.\nThis error is usually caused by passing an argument of a type that is unsupported by the named function.\n[1] During: typing of staticsetitem at <ipython-input-48-d4f621253348> (31)\n\nFile \"<ipython-input-48-d4f621253348>\", line 31:\n    def solve(self, v0, y0, t, dt):\n        <source elided>\n        self.__y = np.zeros_like(self.__v_no_drag)\n        self.__v_no_drag[0] = v0\n        ^\n\n[1] During: resolving callee type: BoundFunction((<class 'numba.types.misc.ClassInstanceType'>, 'solve') for instance.jitclass.ODEData#7f168bc7ee20<solved:bool,g:float64,mu:float64,_ODEData__v_no_drag:array(float64, 1d, A),_ODEData__v:array(float64, 1d, A),_ODEData__y_no_drag:array(float64, 1d, A),_ODEData__y:array(float64, 1d, A),_ODEData__t:array(float64, 1d, A)>)\n[2] During: typing of call at <string> (3)\n\n[3] During: resolving callee type: BoundFunction((<class 'numba.types.misc.ClassInstanceType'>, 'solve') for instance.jitclass.ODEData#7f168bc7ee20<solved:bool,g:float64,mu:float64,_ODEData__v_no_drag:array(float64, 1d, A),_ODEData__v:array(float64, 1d, A),_ODEData__y_no_drag:array(float64, 1d, A),_ODEData__y:array(float64, 1d, A),_ODEData__t:array(float64, 1d, A)>)\n[4] During: typing of call at <string> (3)\n\n\nFile \"<string>\", line 3:\n<source missing, REPL/exec in use?>\n",
     "output_type": "error",
     "traceback": [
      "\u001b[0;31m---------------------------------------------------------------------------\u001b[0m",
      "\u001b[0;31mTypingError\u001b[0m                               Traceback (most recent call last)",
      "\u001b[0;32m<ipython-input-49-921dc3a75fcf>\u001b[0m in \u001b[0;36m<module>\u001b[0;34m\u001b[0m\n\u001b[1;32m      1\u001b[0m \u001b[0mdata\u001b[0m \u001b[0;34m=\u001b[0m \u001b[0mODEData\u001b[0m\u001b[0;34m(\u001b[0m\u001b[0mmu\u001b[0m\u001b[0;34m=\u001b[0m\u001b[0;36m1\u001b[0m\u001b[0;34m)\u001b[0m\u001b[0;34m\u001b[0m\u001b[0;34m\u001b[0m\u001b[0m\n\u001b[0;32m----> 2\u001b[0;31m \u001b[0mdata\u001b[0m\u001b[0;34m.\u001b[0m\u001b[0msolve\u001b[0m\u001b[0;34m(\u001b[0m\u001b[0mnp\u001b[0m\u001b[0;34m.\u001b[0m\u001b[0marray\u001b[0m\u001b[0;34m(\u001b[0m\u001b[0;34m[\u001b[0m\u001b[0;36m1\u001b[0m\u001b[0;34m,\u001b[0m \u001b[0;36m0\u001b[0m\u001b[0;34m,\u001b[0m \u001b[0;36m3\u001b[0m\u001b[0;34m]\u001b[0m\u001b[0;34m)\u001b[0m\u001b[0;34m,\u001b[0m \u001b[0mnp\u001b[0m\u001b[0;34m.\u001b[0m\u001b[0marray\u001b[0m\u001b[0;34m(\u001b[0m\u001b[0;34m[\u001b[0m\u001b[0;36m0.5\u001b[0m\u001b[0;34m,\u001b[0m \u001b[0;36m1\u001b[0m\u001b[0;34m,\u001b[0m \u001b[0;36m0\u001b[0m\u001b[0;34m]\u001b[0m\u001b[0;34m)\u001b[0m\u001b[0;34m,\u001b[0m \u001b[0;36m1\u001b[0m\u001b[0;34m,\u001b[0m \u001b[0;36m0.01\u001b[0m\u001b[0;34m)\u001b[0m\u001b[0;34m\u001b[0m\u001b[0;34m\u001b[0m\u001b[0m\n\u001b[0m\u001b[1;32m      3\u001b[0m \u001b[0mplt\u001b[0m\u001b[0;34m.\u001b[0m\u001b[0mplot\u001b[0m\u001b[0;34m(\u001b[0m\u001b[0mdata\u001b[0m\u001b[0;34m.\u001b[0m\u001b[0mt\u001b[0m\u001b[0;34m,\u001b[0m \u001b[0mdata\u001b[0m\u001b[0;34m.\u001b[0m\u001b[0my\u001b[0m\u001b[0;34m[\u001b[0m\u001b[0;34m:\u001b[0m\u001b[0;34m,\u001b[0m \u001b[0;36m0\u001b[0m\u001b[0;34m]\u001b[0m\u001b[0;34m,\u001b[0m \u001b[0mlabel\u001b[0m\u001b[0;34m=\u001b[0m\u001b[0;34m\"Drag\"\u001b[0m\u001b[0;34m)\u001b[0m\u001b[0;34m\u001b[0m\u001b[0;34m\u001b[0m\u001b[0m\n\u001b[1;32m      4\u001b[0m \u001b[0mplt\u001b[0m\u001b[0;34m.\u001b[0m\u001b[0mplot\u001b[0m\u001b[0;34m(\u001b[0m\u001b[0mdata\u001b[0m\u001b[0;34m.\u001b[0m\u001b[0mt\u001b[0m\u001b[0;34m,\u001b[0m \u001b[0mdata\u001b[0m\u001b[0;34m.\u001b[0m\u001b[0my_no_drag\u001b[0m\u001b[0;34m[\u001b[0m\u001b[0;34m:\u001b[0m\u001b[0;34m,\u001b[0m \u001b[0;36m0\u001b[0m\u001b[0;34m]\u001b[0m\u001b[0;34m,\u001b[0m \u001b[0mlabel\u001b[0m\u001b[0;34m=\u001b[0m\u001b[0;34m\"No drag\"\u001b[0m\u001b[0;34m)\u001b[0m\u001b[0;34m\u001b[0m\u001b[0;34m\u001b[0m\u001b[0m\n\u001b[1;32m      5\u001b[0m \u001b[0mbatch_size\u001b[0m \u001b[0;34m=\u001b[0m \u001b[0mdata\u001b[0m\u001b[0;34m.\u001b[0m\u001b[0my\u001b[0m\u001b[0;34m.\u001b[0m\u001b[0mshape\u001b[0m\u001b[0;34m[\u001b[0m\u001b[0;36m1\u001b[0m\u001b[0;34m]\u001b[0m\u001b[0;34m\u001b[0m\u001b[0;34m\u001b[0m\u001b[0m\n",
      "\u001b[0;32m~/.local/share/virtualenvs/falling_mass-MDEUeTBB/lib/python3.8/site-packages/numba/jitclass/boxing.py\u001b[0m in \u001b[0;36mwrapper\u001b[0;34m(*args, **kwargs)\u001b[0m\n\u001b[1;32m     60\u001b[0m     \u001b[0;34m@\u001b[0m\u001b[0mwraps\u001b[0m\u001b[0;34m(\u001b[0m\u001b[0mfunc\u001b[0m\u001b[0;34m)\u001b[0m\u001b[0;34m\u001b[0m\u001b[0;34m\u001b[0m\u001b[0m\n\u001b[1;32m     61\u001b[0m     \u001b[0;32mdef\u001b[0m \u001b[0mwrapper\u001b[0m\u001b[0;34m(\u001b[0m\u001b[0;34m*\u001b[0m\u001b[0margs\u001b[0m\u001b[0;34m,\u001b[0m \u001b[0;34m**\u001b[0m\u001b[0mkwargs\u001b[0m\u001b[0;34m)\u001b[0m\u001b[0;34m:\u001b[0m\u001b[0;34m\u001b[0m\u001b[0;34m\u001b[0m\u001b[0m\n\u001b[0;32m---> 62\u001b[0;31m         \u001b[0;32mreturn\u001b[0m \u001b[0mmethod\u001b[0m\u001b[0;34m(\u001b[0m\u001b[0;34m*\u001b[0m\u001b[0margs\u001b[0m\u001b[0;34m,\u001b[0m \u001b[0;34m**\u001b[0m\u001b[0mkwargs\u001b[0m\u001b[0;34m)\u001b[0m\u001b[0;34m\u001b[0m\u001b[0;34m\u001b[0m\u001b[0m\n\u001b[0m\u001b[1;32m     63\u001b[0m \u001b[0;34m\u001b[0m\u001b[0m\n\u001b[1;32m     64\u001b[0m     \u001b[0;32mreturn\u001b[0m \u001b[0mwrapper\u001b[0m\u001b[0;34m\u001b[0m\u001b[0;34m\u001b[0m\u001b[0m\n",
      "\u001b[0;32m~/.local/share/virtualenvs/falling_mass-MDEUeTBB/lib/python3.8/site-packages/numba/dispatcher.py\u001b[0m in \u001b[0;36m_compile_for_args\u001b[0;34m(self, *args, **kws)\u001b[0m\n\u001b[1;32m    399\u001b[0m                 \u001b[0me\u001b[0m\u001b[0;34m.\u001b[0m\u001b[0mpatch_message\u001b[0m\u001b[0;34m(\u001b[0m\u001b[0mmsg\u001b[0m\u001b[0;34m)\u001b[0m\u001b[0;34m\u001b[0m\u001b[0;34m\u001b[0m\u001b[0m\n\u001b[1;32m    400\u001b[0m \u001b[0;34m\u001b[0m\u001b[0m\n\u001b[0;32m--> 401\u001b[0;31m             \u001b[0merror_rewrite\u001b[0m\u001b[0;34m(\u001b[0m\u001b[0me\u001b[0m\u001b[0;34m,\u001b[0m \u001b[0;34m'typing'\u001b[0m\u001b[0;34m)\u001b[0m\u001b[0;34m\u001b[0m\u001b[0;34m\u001b[0m\u001b[0m\n\u001b[0m\u001b[1;32m    402\u001b[0m         \u001b[0;32mexcept\u001b[0m \u001b[0merrors\u001b[0m\u001b[0;34m.\u001b[0m\u001b[0mUnsupportedError\u001b[0m \u001b[0;32mas\u001b[0m \u001b[0me\u001b[0m\u001b[0;34m:\u001b[0m\u001b[0;34m\u001b[0m\u001b[0;34m\u001b[0m\u001b[0m\n\u001b[1;32m    403\u001b[0m             \u001b[0;31m# Something unsupported is present in the user code, add help info\u001b[0m\u001b[0;34m\u001b[0m\u001b[0;34m\u001b[0m\u001b[0;34m\u001b[0m\u001b[0m\n",
      "\u001b[0;32m~/.local/share/virtualenvs/falling_mass-MDEUeTBB/lib/python3.8/site-packages/numba/dispatcher.py\u001b[0m in \u001b[0;36merror_rewrite\u001b[0;34m(e, issue_type)\u001b[0m\n\u001b[1;32m    342\u001b[0m                 \u001b[0;32mraise\u001b[0m \u001b[0me\u001b[0m\u001b[0;34m\u001b[0m\u001b[0;34m\u001b[0m\u001b[0m\n\u001b[1;32m    343\u001b[0m             \u001b[0;32melse\u001b[0m\u001b[0;34m:\u001b[0m\u001b[0;34m\u001b[0m\u001b[0;34m\u001b[0m\u001b[0m\n\u001b[0;32m--> 344\u001b[0;31m                 \u001b[0mreraise\u001b[0m\u001b[0;34m(\u001b[0m\u001b[0mtype\u001b[0m\u001b[0;34m(\u001b[0m\u001b[0me\u001b[0m\u001b[0;34m)\u001b[0m\u001b[0;34m,\u001b[0m \u001b[0me\u001b[0m\u001b[0;34m,\u001b[0m \u001b[0;32mNone\u001b[0m\u001b[0;34m)\u001b[0m\u001b[0;34m\u001b[0m\u001b[0;34m\u001b[0m\u001b[0m\n\u001b[0m\u001b[1;32m    345\u001b[0m \u001b[0;34m\u001b[0m\u001b[0m\n\u001b[1;32m    346\u001b[0m         \u001b[0margtypes\u001b[0m \u001b[0;34m=\u001b[0m \u001b[0;34m[\u001b[0m\u001b[0;34m]\u001b[0m\u001b[0;34m\u001b[0m\u001b[0;34m\u001b[0m\u001b[0m\n",
      "\u001b[0;32m~/.local/share/virtualenvs/falling_mass-MDEUeTBB/lib/python3.8/site-packages/numba/six.py\u001b[0m in \u001b[0;36mreraise\u001b[0;34m(tp, value, tb)\u001b[0m\n\u001b[1;32m    666\u001b[0m             \u001b[0mvalue\u001b[0m \u001b[0;34m=\u001b[0m \u001b[0mtp\u001b[0m\u001b[0;34m(\u001b[0m\u001b[0;34m)\u001b[0m\u001b[0;34m\u001b[0m\u001b[0;34m\u001b[0m\u001b[0m\n\u001b[1;32m    667\u001b[0m         \u001b[0;32mif\u001b[0m \u001b[0mvalue\u001b[0m\u001b[0;34m.\u001b[0m\u001b[0m__traceback__\u001b[0m \u001b[0;32mis\u001b[0m \u001b[0;32mnot\u001b[0m \u001b[0mtb\u001b[0m\u001b[0;34m:\u001b[0m\u001b[0;34m\u001b[0m\u001b[0;34m\u001b[0m\u001b[0m\n\u001b[0;32m--> 668\u001b[0;31m             \u001b[0;32mraise\u001b[0m \u001b[0mvalue\u001b[0m\u001b[0;34m.\u001b[0m\u001b[0mwith_traceback\u001b[0m\u001b[0;34m(\u001b[0m\u001b[0mtb\u001b[0m\u001b[0;34m)\u001b[0m\u001b[0;34m\u001b[0m\u001b[0;34m\u001b[0m\u001b[0m\n\u001b[0m\u001b[1;32m    669\u001b[0m         \u001b[0;32mraise\u001b[0m \u001b[0mvalue\u001b[0m\u001b[0;34m\u001b[0m\u001b[0;34m\u001b[0m\u001b[0m\n\u001b[1;32m    670\u001b[0m \u001b[0;34m\u001b[0m\u001b[0m\n",
      "\u001b[0;31mTypingError\u001b[0m: Failed in nopython mode pipeline (step: nopython frontend)\nFailed in nopython mode pipeline (step: nopython frontend)\nInvalid use of Function(<built-in function setitem>) with argument(s) of type(s): (array(float64, 1d, A), Literal[int](0), array(int64, 1d, C))\n * parameterized\nIn definition 0:\n    All templates rejected with literals.\nIn definition 1:\n    All templates rejected without literals.\nIn definition 2:\n    All templates rejected with literals.\nIn definition 3:\n    All templates rejected without literals.\nIn definition 4:\n    All templates rejected with literals.\nIn definition 5:\n    All templates rejected without literals.\nIn definition 6:\n    All templates rejected with literals.\nIn definition 7:\n    All templates rejected without literals.\nIn definition 8:\n    All templates rejected with literals.\nIn definition 9:\n    All templates rejected without literals.\nThis error is usually caused by passing an argument of a type that is unsupported by the named function.\n[1] During: typing of staticsetitem at <ipython-input-48-d4f621253348> (31)\n\nFile \"<ipython-input-48-d4f621253348>\", line 31:\n    def solve(self, v0, y0, t, dt):\n        <source elided>\n        self.__y = np.zeros_like(self.__v_no_drag)\n        self.__v_no_drag[0] = v0\n        ^\n\n[1] During: resolving callee type: BoundFunction((<class 'numba.types.misc.ClassInstanceType'>, 'solve') for instance.jitclass.ODEData#7f168bc7ee20<solved:bool,g:float64,mu:float64,_ODEData__v_no_drag:array(float64, 1d, A),_ODEData__v:array(float64, 1d, A),_ODEData__y_no_drag:array(float64, 1d, A),_ODEData__y:array(float64, 1d, A),_ODEData__t:array(float64, 1d, A)>)\n[2] During: typing of call at <string> (3)\n\n[3] During: resolving callee type: BoundFunction((<class 'numba.types.misc.ClassInstanceType'>, 'solve') for instance.jitclass.ODEData#7f168bc7ee20<solved:bool,g:float64,mu:float64,_ODEData__v_no_drag:array(float64, 1d, A),_ODEData__v:array(float64, 1d, A),_ODEData__y_no_drag:array(float64, 1d, A),_ODEData__y:array(float64, 1d, A),_ODEData__t:array(float64, 1d, A)>)\n[4] During: typing of call at <string> (3)\n\n\nFile \"<string>\", line 3:\n<source missing, REPL/exec in use?>\n"
     ]
    }
   ],
   "source": [
    "data = ODEData(mu=1)\n",
    "data.solve(np.array([1, 0, 3]), np.array([0.5, 1, 0]), 1, 0.01)\n",
    "plt.plot(data.t, data.y[:, 0], label=\"Drag\")\n",
    "plt.plot(data.t, data.y_no_drag[:, 0], label=\"No drag\")\n",
    "batch_size = data.y.shape[1]\n",
    "plt.legend()\n",
    "plt.show()"
   ]
  },
  {
   "cell_type": "code",
   "execution_count": 7,
   "metadata": {},
   "outputs": [],
   "source": [
    "class HybridLSTM(nn.Module):\n",
    "    def __init__(self, nodes=10, layers=1, dropout=0):\n",
    "        super(HybridLSTM, self).__init__()\n",
    "        self.lstm = nn.LSTM(\n",
    "            input_size=1, hidden_size=nodes, num_layers=layers, dropout=dropout\n",
    "        )\n",
    "        self.output_layer = nn.Linear(nodes, 1)\n",
    "\n",
    "    def forward(self, y):\n",
    "        output, (h_n, c_n) = self.lstm(y)\n",
    "        return self.output_layer(h_n[-1])"
   ]
  },
  {
   "cell_type": "code",
   "execution_count": 12,
   "metadata": {},
   "outputs": [],
   "source": [
    "def train(net, data, lr=0.1, epochs=10):\n",
    "    optimizer = torch.optim.SGD(net.parameters(), lr=0.1)\n",
    "    loss_func = nn.MSELoss()\n",
    "    net.train()\n",
    "    for epoch in range(epochs):\n",
    "        optimizer.zero_grad()\n",
    "        y_no_drag = torch.zeros([data.size, 1, 1]).to(device)\n",
    "        y = torch.zeros_like(y_no_drag)\n",
    "        net_correction = torch.zeros_like(y_no_drag)\n",
    "        # loss = 0\n",
    "        for i in range(data.size):\n",
    "            tmp = torch.zeros_like(y)\n",
    "            tmp2 = torch.zeros_like(y)\n",
    "            tmp[i], tmp2[i] = data[i]\n",
    "            y_no_drag = y_no_drag + tmp\n",
    "            y = y + tmp2\n",
    "            tmp = torch.zeros_like(y)\n",
    "            tmp[i] = net.forward(y_no_drag[: i + 1])\n",
    "            net_correction = net_correction + tmp\n",
    "        loss = loss_func(net_correction + y_no_drag, y)\n",
    "        print(f\"Epoch {epoch}: {loss.item()}\")\n",
    "        loss.backward()\n",
    "        optimizer.step()"
   ]
  },
  {
   "cell_type": "code",
   "execution_count": 13,
   "metadata": {},
   "outputs": [
    {
     "name": "stdout",
     "output_type": "stream",
     "text": [
      "Epoch 0: 0.004300587810575962\n",
      "Epoch 1: 0.002545009832829237\n",
      "Epoch 2: 0.0016466024098917842\n",
      "Epoch 3: 0.0011856707278639078\n",
      "Epoch 4: 0.0009482927271164954\n",
      "Epoch 5: 0.0008252396364696324\n",
      "Epoch 6: 0.0007606817525811493\n",
      "Epoch 7: 0.0007260639104060829\n",
      "Epoch 8: 0.0007067751721478999\n",
      "Epoch 9: 0.0006953388219699264\n"
     ]
    }
   ],
   "source": [
    "net = HybridLSTM().to(device)\n",
    "train(net, data)"
   ]
  }
 ],
 "metadata": {
  "kernelspec": {
   "display_name": "Python 3",
   "language": "python",
   "name": "python3"
  },
  "language_info": {
   "codemirror_mode": {
    "name": "ipython",
    "version": 3
   },
   "file_extension": ".py",
   "mimetype": "text/x-python",
   "name": "python",
   "nbconvert_exporter": "python",
   "pygments_lexer": "ipython3",
   "version": "3.8.1"
  }
 },
 "nbformat": 4,
 "nbformat_minor": 4
}
