{
 "cells": [
  {
   "cell_type": "code",
   "execution_count": 1,
   "metadata": {},
   "outputs": [],
   "source": [
    "%load_ext lab_black"
   ]
  },
  {
   "cell_type": "code",
   "execution_count": 2,
   "metadata": {},
   "outputs": [],
   "source": [
    "%matplotlib inline\n",
    "import torch\n",
    "import torch.nn as nn\n",
    "import numba\n",
    "import numpy as np\n",
    "import matplotlib.pyplot as plt"
   ]
  },
  {
   "cell_type": "code",
   "execution_count": 3,
   "metadata": {},
   "outputs": [],
   "source": [
    "device = \"cuda:0\""
   ]
  },
  {
   "cell_type": "code",
   "execution_count": 107,
   "metadata": {},
   "outputs": [],
   "source": [
    "spec = [\n",
    "    (\"solved\", numba.types.boolean),\n",
    "    (\"g\", numba.types.float64),\n",
    "    (\"mu\", numba.types.float64),\n",
    "    (\"__v_no_drag\", numba.types.float64[:, :]),\n",
    "    (\"__v\", numba.types.float64[:, :]),\n",
    "    (\"__y_no_drag\", numba.types.float64[:, :]),\n",
    "    (\"__y\", numba.types.float64[:, :]),\n",
    "    (\"__t\", numba.types.float64[:]),\n",
    "]\n",
    "\n",
    "\n",
    "@numba.jitclass(spec)\n",
    "class ODEData:  # torch.utils.data.Dataset):\n",
    "    def __init__(self, g=9.81, mu=0):\n",
    "        self.solved = False\n",
    "        self.g = g\n",
    "        self.mu = mu\n",
    "\n",
    "    def __getitem__(self, i):\n",
    "        if not self.solved:\n",
    "            raise RuntimeError(\"Please run solve() first!\")\n",
    "        return self.y_no_drag[i], self.y[i]\n",
    "\n",
    "    def solve(self, v0, y0, t, dt):\n",
    "        N = int(t // dt + 1)\n",
    "        np.zeros((N, len(v0)))\n",
    "        self.__v_no_drag = np.zeros((N, len(v0)))\n",
    "        self.__y_no_drag = np.zeros_like(self.__v_no_drag)\n",
    "        self.__v = np.zeros_like(self.__v_no_drag)\n",
    "        self.__y = np.zeros_like(self.__v_no_drag)\n",
    "        self.__v_no_drag[0] = v0\n",
    "        self.__v[0] = v0\n",
    "        self.__y_no_drag[0] = y0\n",
    "        self.__y[0] = y0\n",
    "        self.__t = np.linspace(0, t, N)\n",
    "        for i in range(N - 1):\n",
    "            a_pull = -self.g * self.__y[i]\n",
    "            a_drag = self.mu * self.__v[i]\n",
    "            a_pull_no_drag = -self.g * self.__y_no_drag[i]\n",
    "            step = a_pull_no_drag * dt\n",
    "            self.__v_no_drag[i + 1] = self.__v_no_drag[i] + step * (step < 0)\n",
    "            step = (a_pull - a_drag) * dt\n",
    "            self.__v[i + 1] = self.__v[i] + step * (step < 0)\n",
    "            step = self.__y_no_drag[i] + self.__v_no_drag[i + 1] * dt\n",
    "            self.__y_no_drag[i + 1] = step * (step > 0)\n",
    "            step = self.__y[i] + self.__v[i + 1] * dt\n",
    "            self.__y[i + 1] = step * (step > 0)\n",
    "        self.solved = True\n",
    "\n",
    "    @property\n",
    "    def y(self):\n",
    "        return self.__y\n",
    "\n",
    "    @property\n",
    "    def y_no_drag(self):\n",
    "        return self.__y_no_drag\n",
    "\n",
    "    @property\n",
    "    def v(self):\n",
    "        return self.__v\n",
    "\n",
    "    @property\n",
    "    def v_no_drag(self):\n",
    "        return self.__v_no_drag\n",
    "\n",
    "    @property\n",
    "    def t(self):\n",
    "        return self.__t\n",
    "\n",
    "    @property\n",
    "    def size(self):\n",
    "        return len(self.__t)"
   ]
  },
  {
   "cell_type": "code",
   "execution_count": 116,
   "metadata": {},
   "outputs": [
    {
     "data": {
      "image/png": "[encoded data removed]",
      "text/plain": [
       "<Figure size 432x288 with 1 Axes>"
      ]
     },
     "metadata": {
      "needs_background": "light"
     },
     "output_type": "display_data"
    }
   ],
   "source": [
    "data = ODEData(mu=2)\n",
    "batch_size = 1000\n",
    "t = 2\n",
    "dt = 1e-2\n",
    "v0 = np.random.uniform(0, 5, size=batch_size)\n",
    "y0 = np.random.uniform(0, 10, size=batch_size)\n",
    "data.solve(v0, y0, t, dt)\n",
    "plt.plot(data.t, data.y[:, 0], label=\"Drag\")\n",
    "plt.plot(data.t, data.y_no_drag[:, 0], label=\"No drag\")\n",
    "plt.legend()\n",
    "plt.show()"
   ]
  },
  {
   "cell_type": "code",
   "execution_count": 122,
   "metadata": {},
   "outputs": [],
   "source": [
    "class HybridLSTM(nn.Module):\n",
    "    def __init__(self, nodes=10, layers=1, dropout=0):\n",
    "        super(HybridLSTM, self).__init__()\n",
    "        self.lstm = nn.LSTM(\n",
    "            input_size=1, hidden_size=nodes, num_layers=layers, dropout=dropout\n",
    "        )\n",
    "        self.output_layer = nn.Linear(nodes, 1)\n",
    "\n",
    "    def forward(self, y):\n",
    "        output, (h_n, c_n) = self.lstm(y)\n",
    "        return self.output_layer(h_n[-1])"
   ]
  },
  {
   "cell_type": "code",
   "execution_count": 130,
   "metadata": {},
   "outputs": [],
   "source": [
    "def train(net, data, lr=0.1, epochs=10):\n",
    "    optimizer = torch.optim.SGD(net.parameters(), lr=0.1)\n",
    "    loss_func = nn.MSELoss()\n",
    "    net.train()\n",
    "    for epoch in range(epochs):\n",
    "        optimizer.zero_grad()\n",
    "        y_no_drag = torch.zeros([data.size, batch_size, 1]).to(device)\n",
    "        y = torch.zeros_like(y_no_drag)\n",
    "        net_correction = torch.zeros_like(y_no_drag)\n",
    "        # loss = 0\n",
    "        for i in range(data.size):\n",
    "            tmp = torch.zeros_like(y)\n",
    "            tmp2 = torch.zeros_like(y)\n",
    "            print(data[i][0].shape)\n",
    "            tmp[i, :, :], tmp2[i, :, :] = data[i]\n",
    "            y_no_drag = y_no_drag + tmp\n",
    "            y = y + tmp2\n",
    "            tmp = torch.zeros_like(y)\n",
    "            tmp[i] = net.forward(y_no_drag[: i + 1])\n",
    "            net_correction = net_correction + tmp\n",
    "        loss = loss_func(net_correction + y_no_drag, y)\n",
    "        print(f\"Epoch {epoch}: {loss.item()}\")\n",
    "        loss.backward()\n",
    "        optimizer.step()"
   ]
  },
  {
   "cell_type": "code",
   "execution_count": 131,
   "metadata": {},
   "outputs": [
    {
     "name": "stdout",
     "output_type": "stream",
     "text": [
      "(1000,)\n"
     ]
    },
    {
     "ename": "TypeError",
     "evalue": "can't assign a numpy.ndarray to a torch.cuda.FloatTensor",
     "output_type": "error",
     "traceback": [
      "\u001b[0;31m---------------------------------------------------------------------------\u001b[0m",
      "\u001b[0;31mTypeError\u001b[0m                                 Traceback (most recent call last)",
      "\u001b[0;32m<ipython-input-131-c3eef87109d0>\u001b[0m in \u001b[0;36m<module>\u001b[0;34m\u001b[0m\n\u001b[1;32m      1\u001b[0m \u001b[0mnet\u001b[0m \u001b[0;34m=\u001b[0m \u001b[0mHybridLSTM\u001b[0m\u001b[0;34m(\u001b[0m\u001b[0;34m)\u001b[0m\u001b[0;34m.\u001b[0m\u001b[0mto\u001b[0m\u001b[0;34m(\u001b[0m\u001b[0mdevice\u001b[0m\u001b[0;34m)\u001b[0m\u001b[0;34m\u001b[0m\u001b[0;34m\u001b[0m\u001b[0m\n\u001b[0;32m----> 2\u001b[0;31m \u001b[0mtrain\u001b[0m\u001b[0;34m(\u001b[0m\u001b[0mnet\u001b[0m\u001b[0;34m,\u001b[0m \u001b[0mdata\u001b[0m\u001b[0;34m)\u001b[0m\u001b[0;34m\u001b[0m\u001b[0;34m\u001b[0m\u001b[0m\n\u001b[0m",
      "\u001b[0;32m<ipython-input-130-fcd4b70b8195>\u001b[0m in \u001b[0;36mtrain\u001b[0;34m(net, data, lr, epochs)\u001b[0m\n\u001b[1;32m     13\u001b[0m             \u001b[0mtmp2\u001b[0m \u001b[0;34m=\u001b[0m \u001b[0mtorch\u001b[0m\u001b[0;34m.\u001b[0m\u001b[0mzeros_like\u001b[0m\u001b[0;34m(\u001b[0m\u001b[0my\u001b[0m\u001b[0;34m)\u001b[0m\u001b[0;34m\u001b[0m\u001b[0;34m\u001b[0m\u001b[0m\n\u001b[1;32m     14\u001b[0m             \u001b[0mprint\u001b[0m\u001b[0;34m(\u001b[0m\u001b[0mdata\u001b[0m\u001b[0;34m[\u001b[0m\u001b[0mi\u001b[0m\u001b[0;34m]\u001b[0m\u001b[0;34m[\u001b[0m\u001b[0;36m0\u001b[0m\u001b[0;34m]\u001b[0m\u001b[0;34m.\u001b[0m\u001b[0mshape\u001b[0m\u001b[0;34m)\u001b[0m\u001b[0;34m\u001b[0m\u001b[0;34m\u001b[0m\u001b[0m\n\u001b[0;32m---> 15\u001b[0;31m             \u001b[0mtmp\u001b[0m\u001b[0;34m[\u001b[0m\u001b[0mi\u001b[0m\u001b[0;34m,\u001b[0m \u001b[0;34m:\u001b[0m\u001b[0;34m,\u001b[0m \u001b[0;34m:\u001b[0m\u001b[0;34m]\u001b[0m\u001b[0;34m,\u001b[0m \u001b[0mtmp2\u001b[0m\u001b[0;34m[\u001b[0m\u001b[0mi\u001b[0m\u001b[0;34m,\u001b[0m \u001b[0;34m:\u001b[0m\u001b[0;34m,\u001b[0m \u001b[0;34m:\u001b[0m\u001b[0;34m]\u001b[0m \u001b[0;34m=\u001b[0m \u001b[0mdata\u001b[0m\u001b[0;34m[\u001b[0m\u001b[0mi\u001b[0m\u001b[0;34m]\u001b[0m\u001b[0;34m\u001b[0m\u001b[0;34m\u001b[0m\u001b[0m\n\u001b[0m\u001b[1;32m     16\u001b[0m             \u001b[0my_no_drag\u001b[0m \u001b[0;34m=\u001b[0m \u001b[0my_no_drag\u001b[0m \u001b[0;34m+\u001b[0m \u001b[0mtmp\u001b[0m\u001b[0;34m\u001b[0m\u001b[0;34m\u001b[0m\u001b[0m\n\u001b[1;32m     17\u001b[0m             \u001b[0my\u001b[0m \u001b[0;34m=\u001b[0m \u001b[0my\u001b[0m \u001b[0;34m+\u001b[0m \u001b[0mtmp2\u001b[0m\u001b[0;34m\u001b[0m\u001b[0;34m\u001b[0m\u001b[0m\n",
      "\u001b[0;31mTypeError\u001b[0m: can't assign a numpy.ndarray to a torch.cuda.FloatTensor"
     ]
    }
   ],
   "source": [
    "net = HybridLSTM().to(device)\n",
    "train(net, data)"
   ]
  }
 ],
 "metadata": {
  "kernelspec": {
   "display_name": "Python 3",
   "language": "python",
   "name": "python3"
  },
  "language_info": {
   "codemirror_mode": {
    "name": "ipython",
    "version": 3
   },
   "file_extension": ".py",
   "mimetype": "text/x-python",
   "name": "python",
   "nbconvert_exporter": "python",
   "pygments_lexer": "ipython3",
   "version": "3.8.1"
  }
 },
 "nbformat": 4,
 "nbformat_minor": 4
}
