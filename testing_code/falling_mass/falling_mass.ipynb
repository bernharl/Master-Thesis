{
 "cells": [
  {
   "cell_type": "code",
   "execution_count": 94,
   "metadata": {},
   "outputs": [
    {
     "name": "stdout",
     "output_type": "stream",
     "text": [
      "The lab_black extension is already loaded. To reload it, use:\n",
      "  %reload_ext lab_black\n"
     ]
    }
   ],
   "source": [
    "%load_ext lab_black"
   ]
  },
  {
   "cell_type": "code",
   "execution_count": 95,
   "metadata": {},
   "outputs": [],
   "source": [
    "%matplotlib inline\n",
    "import torch\n",
    "import torch.nn as nn\n",
    "import numba\n",
    "import numpy as np\n",
    "import matplotlib.pyplot as plt"
   ]
  },
  {
   "cell_type": "code",
   "execution_count": 161,
   "metadata": {},
   "outputs": [],
   "source": [
    "spec = [\n",
    "    (\"solved\", numba.types.boolean),\n",
    "    (\"g\", numba.types.float64),\n",
    "    (\"mu\", numba.types.float64),\n",
    "    (\"__v_no_drag\", numba.types.float64[:]),\n",
    "    (\"__v\", numba.types.float64[:]),\n",
    "    (\"__y_no_drag\", numba.types.float64[:]),\n",
    "    (\"__y\", numba.types.float64[:]),\n",
    "    (\"__t\", numba.types.float64[:]),\n",
    "]\n",
    "\n",
    "\n",
    "@numba.jitclass(spec)\n",
    "class ODEData:  # torch.utils.data.Dataset):\n",
    "    def __init__(self, g=9.81, mu=0):\n",
    "        self.solved = False\n",
    "        self.g = g\n",
    "        self.mu = mu\n",
    "\n",
    "    def __getitem__(self, i):\n",
    "        if not self.solved:\n",
    "            raise RuntimeError(\"Please run solve() first!\")\n",
    "        return self.y_no_drag[i], self.y[i]\n",
    "\n",
    "    def solve(self, v0, y0, t, dt):\n",
    "        N = int(t // dt + 1)\n",
    "        self.__v_no_drag = np.zeros(N)\n",
    "        self.__y_no_drag = np.zeros_like(self.__v_no_drag)\n",
    "        self.__v = np.zeros_like(self.__v_no_drag)\n",
    "        self.__y = np.zeros_like(self.__v_no_drag)\n",
    "        self.__v_no_drag[0] = self.__v[0] = v0\n",
    "        self.__y_no_drag[0] = self.__y[0] = y0\n",
    "        self.__t = np.linspace(0, t, N)\n",
    "        for i in range(N - 1):\n",
    "            a_pull = -self.g * self.__y[i]\n",
    "            a_drag = self.mu * self.__v[i]\n",
    "            a_pull_no_drag = -self.g * self.__y_no_drag[i]\n",
    "            self.__v_no_drag[i + 1] = self.__v_no_drag[i] + min(a_pull_no_drag, 0) * dt\n",
    "            self.__v[i + 1] = self.__v[i] + min(a_pull - a_drag, 0) * dt\n",
    "            self.__y_no_drag[i + 1] = max(\n",
    "                self.__y_no_drag[i] + self.__v_no_drag[i + 1] * dt, 0\n",
    "            )\n",
    "            self.__y[i + 1] = max(self.__y[i] + self.__v[i + 1] * dt, 0)\n",
    "        self.solved = True\n",
    "\n",
    "    @property\n",
    "    def y(self):\n",
    "        return self.__y\n",
    "\n",
    "    @property\n",
    "    def y_no_drag(self):\n",
    "        return self.__y_no_drag\n",
    "\n",
    "    @property\n",
    "    def v(self):\n",
    "        return self.__v\n",
    "\n",
    "    @property\n",
    "    def v_no_drag(self):\n",
    "        return self.__v_no_drag\n",
    "\n",
    "    @property\n",
    "    def t(self):\n",
    "        return self.__t\n",
    "\n",
    "    @property\n",
    "    def size(self):\n",
    "        return len(self.__t)"
   ]
  },
  {
   "cell_type": "code",
   "execution_count": 162,
   "metadata": {},
   "outputs": [
    {
     "data": {
      "image/png": "[encoded data removed]",
      "text/plain": [
       "<Figure size 432x288 with 1 Axes>"
      ]
     },
     "metadata": {
      "needs_background": "light"
     },
     "output_type": "display_data"
    }
   ],
   "source": [
    "data = ODEData(mu=1)\n",
    "data.solve(0, 1, 0.5, 0.01)\n",
    "plt.plot(data.t, data.y, label=\"Drag\")\n",
    "plt.plot(data.t, data.y_no_drag, label=\"No drag\")\n",
    "plt.legend()\n",
    "plt.show()"
   ]
  },
  {
   "cell_type": "code",
   "execution_count": 195,
   "metadata": {},
   "outputs": [],
   "source": [
    "class HybridLSTM(nn.Module):\n",
    "    def __init__(self, nodes=10, layers=1, dropout=0):\n",
    "        super(HybridLSTM, self).__init__()\n",
    "        self.lstm = nn.LSTM(\n",
    "            input_size=1, hidden_size=nodes, num_layers=layers, dropout=dropout\n",
    "        )\n",
    "        self.output_layer = nn.Linear(nodes, 1)\n",
    "\n",
    "    def forward(self, y):\n",
    "        output, (h_n, c_n) = self.lstm(y)\n",
    "        return self.output_layer(h_n[-1])"
   ]
  },
  {
   "cell_type": "code",
   "execution_count": 208,
   "metadata": {},
   "outputs": [],
   "source": [
    "def train(net, data, lr=0.1, epochs=10):\n",
    "    optimizer = torch.optim.SGD(net.parameters(), lr=0.1)\n",
    "    loss_func = nn.MSELoss()\n",
    "    net.train()\n",
    "    for epoch in range(epochs):\n",
    "        optimizer.zero_grad()\n",
    "        y_no_drag = torch.zeros([data.size, 1, 1])\n",
    "        y = torch.zeros_like(y_no_drag)\n",
    "        net_correction = torch.zeros_like(y_no_drag)\n",
    "        # loss = 0\n",
    "        for i in range(data.size):\n",
    "            tmp = torch.zeros_like(y)\n",
    "            tmp2 = torch.zeros_like(y)\n",
    "            tmp[i], tmp2[i] = data[i]\n",
    "            y_no_drag = y_no_drag + tmp\n",
    "            y = y + tmp2\n",
    "            tmp = torch.zeros_like(y)\n",
    "            tmp[i] = net.forward(y_no_drag[: i + 1])\n",
    "            net_correction = net_correction + tmp\n",
    "        loss = loss_func(net_correction + y_no_drag, y)\n",
    "        print(f\"Epoch {epoch}: {loss.item()}\")\n",
    "        loss.backward()\n",
    "        optimizer.step()"
   ]
  },
  {
   "cell_type": "code",
   "execution_count": 209,
   "metadata": {},
   "outputs": [
    {
     "name": "stdout",
     "output_type": "stream",
     "text": [
      "Epoch 49: 0.09669739007949829\n",
      "Epoch 49: 0.04809638112783432\n",
      "Epoch 49: 0.02455192618072033\n"
     ]
    },
    {
     "ename": "KeyboardInterrupt",
     "evalue": "",
     "output_type": "error",
     "traceback": [
      "\u001b[0;31m---------------------------------------------------------------------------\u001b[0m",
      "\u001b[0;31mKeyboardInterrupt\u001b[0m                         Traceback (most recent call last)",
      "\u001b[0;32m<ipython-input-209-4740a4cb29d0>\u001b[0m in \u001b[0;36m<module>\u001b[0;34m\u001b[0m\n\u001b[1;32m      2\u001b[0m \u001b[0mtorch\u001b[0m\u001b[0;34m.\u001b[0m\u001b[0mautograd\u001b[0m\u001b[0;34m.\u001b[0m\u001b[0mset_detect_anomaly\u001b[0m\u001b[0;34m(\u001b[0m\u001b[0;32mFalse\u001b[0m\u001b[0;34m)\u001b[0m\u001b[0;34m\u001b[0m\u001b[0;34m\u001b[0m\u001b[0m\n\u001b[1;32m      3\u001b[0m \u001b[0;32mwith\u001b[0m \u001b[0mtorch\u001b[0m\u001b[0;34m.\u001b[0m\u001b[0mautograd\u001b[0m\u001b[0;34m.\u001b[0m\u001b[0mdetect_anomaly\u001b[0m\u001b[0;34m(\u001b[0m\u001b[0;34m)\u001b[0m\u001b[0;34m:\u001b[0m\u001b[0;34m\u001b[0m\u001b[0;34m\u001b[0m\u001b[0m\n\u001b[0;32m----> 4\u001b[0;31m     \u001b[0mtrain\u001b[0m\u001b[0;34m(\u001b[0m\u001b[0mnet\u001b[0m\u001b[0;34m,\u001b[0m \u001b[0mdata\u001b[0m\u001b[0;34m)\u001b[0m\u001b[0;34m\u001b[0m\u001b[0;34m\u001b[0m\u001b[0m\n\u001b[0m",
      "\u001b[0;32m<ipython-input-208-d516a6ac1795>\u001b[0m in \u001b[0;36mtrain\u001b[0;34m(net, data, lr, epochs)\u001b[0m\n\u001b[1;32m     19\u001b[0m             \u001b[0mnet_correction\u001b[0m \u001b[0;34m=\u001b[0m \u001b[0mnet_correction\u001b[0m \u001b[0;34m+\u001b[0m \u001b[0mtmp\u001b[0m\u001b[0;34m\u001b[0m\u001b[0;34m\u001b[0m\u001b[0m\n\u001b[1;32m     20\u001b[0m         \u001b[0mloss\u001b[0m \u001b[0;34m=\u001b[0m \u001b[0mloss_func\u001b[0m\u001b[0;34m(\u001b[0m\u001b[0mnet_correction\u001b[0m \u001b[0;34m+\u001b[0m \u001b[0my_no_drag\u001b[0m\u001b[0;34m,\u001b[0m \u001b[0my\u001b[0m\u001b[0;34m)\u001b[0m\u001b[0;34m\u001b[0m\u001b[0;34m\u001b[0m\u001b[0m\n\u001b[0;32m---> 21\u001b[0;31m         \u001b[0mprint\u001b[0m\u001b[0;34m(\u001b[0m\u001b[0;34mf\"Epoch {i}: {loss.item()}\"\u001b[0m\u001b[0;34m)\u001b[0m\u001b[0;34m\u001b[0m\u001b[0;34m\u001b[0m\u001b[0m\n\u001b[0m\u001b[1;32m     22\u001b[0m         \u001b[0mloss\u001b[0m\u001b[0;34m.\u001b[0m\u001b[0mbackward\u001b[0m\u001b[0;34m(\u001b[0m\u001b[0;34m)\u001b[0m\u001b[0;34m\u001b[0m\u001b[0;34m\u001b[0m\u001b[0m\n\u001b[1;32m     23\u001b[0m         \u001b[0moptimizer\u001b[0m\u001b[0;34m.\u001b[0m\u001b[0mstep\u001b[0m\u001b[0;34m(\u001b[0m\u001b[0;34m)\u001b[0m\u001b[0;34m\u001b[0m\u001b[0;34m\u001b[0m\u001b[0m\n",
      "\u001b[0;31mKeyboardInterrupt\u001b[0m: "
     ]
    }
   ],
   "source": [
    "net = HybridLSTM()\n",
    "torch.autograd.set_detect_anomaly(False)\n",
    "with torch.autograd.detect_anomaly():\n",
    "    train(net, data)"
   ]
  }
 ],
 "metadata": {
  "kernelspec": {
   "display_name": "Python 3",
   "language": "python",
   "name": "python3"
  },
  "language_info": {
   "codemirror_mode": {
    "name": "ipython",
    "version": 3
   },
   "file_extension": ".py",
   "mimetype": "text/x-python",
   "name": "python",
   "nbconvert_exporter": "python",
   "pygments_lexer": "ipython3",
   "version": "3.8.1"
  }
 },
 "nbformat": 4,
 "nbformat_minor": 4
}
