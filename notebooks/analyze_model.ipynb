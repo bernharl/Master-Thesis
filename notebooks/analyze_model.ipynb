{
 "cells": [
  {
   "cell_type": "code",
   "execution_count": 1,
   "metadata": {},
   "outputs": [],
   "source": [
    "import torch\n",
    "\n",
    "from camelsml import load_config, Model"
   ]
  },
  {
   "cell_type": "code",
   "execution_count": 2,
   "metadata": {},
   "outputs": [
    {
     "name": "stdout",
     "output_type": "stream",
     "text": [
      "285953\n"
     ]
    }
   ],
   "source": [
    "cfg = load_config(\"../runs/combined_dataset/mixed_concat/run_config.txt\")\n",
    "model = Model(input_size_dyn=22, input_size_stat=0, hidden_size=cfg[\"hidden_size\"], concat_static=True)\n",
    "model.load_state_dict(torch.load(\"../runs/combined_dataset/mixed_concat/4/run_1703_1401_seed19970204/model_epoch15.pt\", map_location=\"cpu\"))\n",
    "num = 0\n",
    "for param in model.parameters():\n",
    "    num += torch.numel(param)\n",
    "print(num)\n",
    "#print(vars(model.lstm))\n",
    "#print(model.lstm._parameters[\"weight_hh\"].size())"
   ]
  },
  {
   "cell_type": "code",
   "execution_count": 3,
   "metadata": {},
   "outputs": [
    {
     "name": "stdout",
     "output_type": "stream",
     "text": [
      "205057\n"
     ]
    }
   ],
   "source": [
    "cfg = load_config(\"../runs/combined_dataset/mixed/run_config.txt\")\n",
    "model = Model(input_size_dyn=3, input_size_stat=19, hidden_size=cfg[\"hidden_size\"], concat_static=cfg[\"concat_static\"])\n",
    "model.load_state_dict(torch.load(\"../runs/combined_dataset/mixed/4/run_3103_0552_seed19970204/model_epoch15.pt\", map_location=\"cpu\"))\n",
    "num = 0\n",
    "for param in model.parameters():\n",
    "    num += torch.numel(param)\n",
    "print(num)\n",
    "#print(vars(model.lstm))\n",
    "#print(model.lstm._parameters[\"weight_hh\"].size())"
   ]
  },
  {
   "cell_type": "code",
   "execution_count": 4,
   "metadata": {},
   "outputs": [
    {
     "name": "stdout",
     "output_type": "stream",
     "text": [
      "266497\n"
     ]
    }
   ],
   "source": [
    "cfg = load_config(\"../runs/combined_dataset/mixed_no_static/run_config.txt\")\n",
    "model = Model(input_size_dyn=3, input_size_stat=0, hidden_size=cfg[\"hidden_size\"], concat_static=cfg[\"concat_static\"], no_static=cfg[\"no_static\"])\n",
    "model.load_state_dict(torch.load(\"../runs/combined_dataset/mixed_no_static/4/run_2203_1343_seed19970204/model_epoch15.pt\", map_location=\"cpu\"))\n",
    "num = 0\n",
    "for param in model.parameters():\n",
    "    num += torch.numel(param)\n",
    "print(num)\n",
    "#print(vars(model.lstm))\n",
    "#print(model.lstm._parameters[\"weight_hh\"].size())"
   ]
  }
 ],
 "metadata": {
  "kernelspec": {
   "display_name": "Python 3",
   "language": "python",
   "name": "python3"
  },
  "language_info": {
   "codemirror_mode": {
    "name": "ipython",
    "version": 3
   },
   "file_extension": ".py",
   "mimetype": "text/x-python",
   "name": "python",
   "nbconvert_exporter": "python",
   "pygments_lexer": "ipython3",
   "version": "3.8.6"
  }
 },
 "nbformat": 4,
 "nbformat_minor": 4
}
